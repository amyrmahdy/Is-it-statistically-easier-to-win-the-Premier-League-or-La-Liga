{
 "cells": [
  {
   "cell_type": "code",
   "execution_count": 2,
   "metadata": {},
   "outputs": [],
   "source": [
    "import numpy as np\n",
    "import pandas as pd\n",
    "import pingouin as pg"
   ]
  },
  {
   "cell_type": "code",
   "execution_count": 3,
   "metadata": {},
   "outputs": [
    {
     "name": "stdout",
     "output_type": "stream",
     "text": [
      "first group mean 162.4843\n",
      "second group mean 159.6809\n"
     ]
    },
    {
     "data": {
      "text/html": [
       "<div>\n",
       "<style scoped>\n",
       "    .dataframe tbody tr th:only-of-type {\n",
       "        vertical-align: middle;\n",
       "    }\n",
       "\n",
       "    .dataframe tbody tr th {\n",
       "        vertical-align: top;\n",
       "    }\n",
       "\n",
       "    .dataframe thead th {\n",
       "        text-align: right;\n",
       "    }\n",
       "</style>\n",
       "<table border=\"1\" class=\"dataframe\">\n",
       "  <thead>\n",
       "    <tr style=\"text-align: right;\">\n",
       "      <th></th>\n",
       "      <th>T</th>\n",
       "      <th>dof</th>\n",
       "      <th>alternative</th>\n",
       "      <th>p-val</th>\n",
       "      <th>CI95%</th>\n",
       "      <th>cohen-d</th>\n",
       "      <th>BF10</th>\n",
       "      <th>power</th>\n",
       "    </tr>\n",
       "  </thead>\n",
       "  <tbody>\n",
       "    <tr>\n",
       "      <th>T-test</th>\n",
       "      <td>0.653148</td>\n",
       "      <td>18</td>\n",
       "      <td>two-sided</td>\n",
       "      <td>0.521917</td>\n",
       "      <td>[-6.21, 11.82]</td>\n",
       "      <td>0.292097</td>\n",
       "      <td>0.462</td>\n",
       "      <td>0.094912</td>\n",
       "    </tr>\n",
       "  </tbody>\n",
       "</table>\n",
       "</div>"
      ],
      "text/plain": [
       "               T  dof alternative     p-val           CI95%   cohen-d   BF10  \\\n",
       "T-test  0.653148   18   two-sided  0.521917  [-6.21, 11.82]  0.292097  0.462   \n",
       "\n",
       "           power  \n",
       "T-test  0.094912  "
      ]
     },
     "execution_count": 3,
     "metadata": {},
     "output_type": "execute_result"
    }
   ],
   "source": [
    "data_group1 = np.array([160, 150, 160, 156.12, 163.24,\n",
    "                        160.56, 168.56, 174.12,\n",
    "                        167.123, 165.12])\n",
    "data_group2 = np.array([157.97, 146, 140.2, 170.15,\n",
    "                        167.34, 176.123, 162.35, 159.123,\n",
    "                        169.43, 148.123])\n",
    "print(\"first group mean\",data_group1.mean())\n",
    "print(\"second group mean\",data_group2.mean())\n",
    "result = pg.ttest(data_group1, data_group2, correction = False)\n",
    "result"
   ]
  },
  {
   "attachments": {},
   "cell_type": "markdown",
   "metadata": {},
   "source": [
    "# -------------------------------"
   ]
  },
  {
   "cell_type": "code",
   "execution_count": 4,
   "metadata": {},
   "outputs": [
    {
     "name": "stdout",
     "output_type": "stream",
     "text": [
      "first group mean 179.4843\n",
      "second group mean 159.6809\n"
     ]
    },
    {
     "data": {
      "text/html": [
       "<div>\n",
       "<style scoped>\n",
       "    .dataframe tbody tr th:only-of-type {\n",
       "        vertical-align: middle;\n",
       "    }\n",
       "\n",
       "    .dataframe tbody tr th {\n",
       "        vertical-align: top;\n",
       "    }\n",
       "\n",
       "    .dataframe thead th {\n",
       "        text-align: right;\n",
       "    }\n",
       "</style>\n",
       "<table border=\"1\" class=\"dataframe\">\n",
       "  <thead>\n",
       "    <tr style=\"text-align: right;\">\n",
       "      <th></th>\n",
       "      <th>T</th>\n",
       "      <th>dof</th>\n",
       "      <th>alternative</th>\n",
       "      <th>p-val</th>\n",
       "      <th>CI95%</th>\n",
       "      <th>cohen-d</th>\n",
       "      <th>BF10</th>\n",
       "      <th>power</th>\n",
       "    </tr>\n",
       "  </thead>\n",
       "  <tbody>\n",
       "    <tr>\n",
       "      <th>T-test</th>\n",
       "      <td>3.97079</td>\n",
       "      <td>18</td>\n",
       "      <td>two-sided</td>\n",
       "      <td>0.000896</td>\n",
       "      <td>[9.33, 30.28]</td>\n",
       "      <td>1.775791</td>\n",
       "      <td>32.733</td>\n",
       "      <td>0.963377</td>\n",
       "    </tr>\n",
       "  </tbody>\n",
       "</table>\n",
       "</div>"
      ],
      "text/plain": [
       "              T  dof alternative     p-val          CI95%   cohen-d    BF10  \\\n",
       "T-test  3.97079   18   two-sided  0.000896  [9.33, 30.28]  1.775791  32.733   \n",
       "\n",
       "           power  \n",
       "T-test  0.963377  "
      ]
     },
     "execution_count": 4,
     "metadata": {},
     "output_type": "execute_result"
    }
   ],
   "source": [
    "data_group1 = np.array([180, 190, 170, 176.12, 193.24,\n",
    "                        190.56, 188.56, 174.12,\n",
    "                        167.123, 165.12])\n",
    "data_group2 = np.array([157.97, 146, 140.2, 170.15,\n",
    "                        167.34, 176.123, 162.35, 159.123,\n",
    "                        169.43, 148.123])\n",
    "print(\"first group mean\",data_group1.mean())\n",
    "print(\"second group mean\",data_group2.mean())\n",
    "result = pg.ttest(data_group1, data_group2, correction = False)\n",
    "result"
   ]
  },
  {
   "attachments": {},
   "cell_type": "markdown",
   "metadata": {},
   "source": [
    "# -------------------------------"
   ]
  },
  {
   "cell_type": "code",
   "execution_count": 11,
   "metadata": {},
   "outputs": [
    {
     "name": "stdout",
     "output_type": "stream",
     "text": [
      "first group mean 179.4843\n",
      "second group mean 159.6809\n"
     ]
    },
    {
     "data": {
      "text/html": [
       "<div>\n",
       "<style scoped>\n",
       "    .dataframe tbody tr th:only-of-type {\n",
       "        vertical-align: middle;\n",
       "    }\n",
       "\n",
       "    .dataframe tbody tr th {\n",
       "        vertical-align: top;\n",
       "    }\n",
       "\n",
       "    .dataframe thead th {\n",
       "        text-align: right;\n",
       "    }\n",
       "</style>\n",
       "<table border=\"1\" class=\"dataframe\">\n",
       "  <thead>\n",
       "    <tr style=\"text-align: right;\">\n",
       "      <th></th>\n",
       "      <th>T</th>\n",
       "      <th>dof</th>\n",
       "      <th>alternative</th>\n",
       "      <th>p-val</th>\n",
       "      <th>CI95%</th>\n",
       "      <th>cohen-d</th>\n",
       "      <th>BF10</th>\n",
       "      <th>power</th>\n",
       "    </tr>\n",
       "  </thead>\n",
       "  <tbody>\n",
       "    <tr>\n",
       "      <th>T-test</th>\n",
       "      <td>3.97079</td>\n",
       "      <td>18</td>\n",
       "      <td>less</td>\n",
       "      <td>0.999552</td>\n",
       "      <td>[-inf, 28.45]</td>\n",
       "      <td>1.775791</td>\n",
       "      <td>0.015</td>\n",
       "      <td>2.113674e-08</td>\n",
       "    </tr>\n",
       "  </tbody>\n",
       "</table>\n",
       "</div>"
      ],
      "text/plain": [
       "              T  dof alternative     p-val          CI95%   cohen-d   BF10  \\\n",
       "T-test  3.97079   18        less  0.999552  [-inf, 28.45]  1.775791  0.015   \n",
       "\n",
       "               power  \n",
       "T-test  2.113674e-08  "
      ]
     },
     "execution_count": 11,
     "metadata": {},
     "output_type": "execute_result"
    }
   ],
   "source": [
    "data_group1 = np.array([180, 190, 170, 176.12, 193.24,\n",
    "                        190.56, 188.56, 174.12,\n",
    "                        167.123, 165.12])\n",
    "data_group2 = np.array([157.97, 146, 140.2, 170.15,\n",
    "                        167.34, 176.123, 162.35, 159.123,\n",
    "                        169.43, 148.123])\n",
    "print(\"first group mean\",data_group1.mean())\n",
    "print(\"second group mean\",data_group2.mean())\n",
    "result = pg.ttest(data_group1, data_group2, correction = False, alternative = 'less')\n",
    "result"
   ]
  }
 ],
 "metadata": {
  "kernelspec": {
   "display_name": "Python 3",
   "language": "python",
   "name": "python3"
  },
  "language_info": {
   "codemirror_mode": {
    "name": "ipython",
    "version": 3
   },
   "file_extension": ".py",
   "mimetype": "text/x-python",
   "name": "python",
   "nbconvert_exporter": "python",
   "pygments_lexer": "ipython3",
   "version": "3.10.6"
  },
  "orig_nbformat": 4
 },
 "nbformat": 4,
 "nbformat_minor": 2
}
