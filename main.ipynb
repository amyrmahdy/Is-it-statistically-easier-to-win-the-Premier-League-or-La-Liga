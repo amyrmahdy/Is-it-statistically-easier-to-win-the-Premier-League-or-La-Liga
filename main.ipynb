{
 "cells": [
  {
   "cell_type": "code",
   "execution_count": 39,
   "metadata": {},
   "outputs": [],
   "source": [
    "import pandas as pd\n",
    "import pingouin as pg"
   ]
  },
  {
   "cell_type": "code",
   "execution_count": 40,
   "metadata": {},
   "outputs": [],
   "source": [
    "df = pd.read_csv(\"football.csv\")"
   ]
  },
  {
   "cell_type": "code",
   "execution_count": 41,
   "metadata": {},
   "outputs": [
    {
     "data": {
      "text/html": [
       "<div>\n",
       "<style scoped>\n",
       "    .dataframe tbody tr th:only-of-type {\n",
       "        vertical-align: middle;\n",
       "    }\n",
       "\n",
       "    .dataframe tbody tr th {\n",
       "        vertical-align: top;\n",
       "    }\n",
       "\n",
       "    .dataframe thead th {\n",
       "        text-align: right;\n",
       "    }\n",
       "</style>\n",
       "<table border=\"1\" class=\"dataframe\">\n",
       "  <thead>\n",
       "    <tr style=\"text-align: right;\">\n",
       "      <th></th>\n",
       "      <th>Key</th>\n",
       "      <th>Team</th>\n",
       "      <th>League</th>\n",
       "      <th>Season</th>\n",
       "      <th>Rank</th>\n",
       "      <th>Games</th>\n",
       "      <th>Wins</th>\n",
       "      <th>Draws</th>\n",
       "      <th>Losses</th>\n",
       "      <th>Points</th>\n",
       "      <th>...</th>\n",
       "      <th>Nutmegs</th>\n",
       "      <th>Controlled</th>\n",
       "      <th>DistMovedWithBall</th>\n",
       "      <th>ProgressiveDistMoved</th>\n",
       "      <th>ProgC</th>\n",
       "      <th>ProgressiveIntoFinalThird</th>\n",
       "      <th>ProgressiveInto18Yard</th>\n",
       "      <th>Miscontrols</th>\n",
       "      <th>MiscontrolsAfterTackle</th>\n",
       "      <th>ProgressivePassReceived</th>\n",
       "    </tr>\n",
       "  </thead>\n",
       "  <tbody>\n",
       "    <tr>\n",
       "      <th>0</th>\n",
       "      <td>Chelsea DL 2009/2010</td>\n",
       "      <td>Chelsea</td>\n",
       "      <td>Premier League</td>\n",
       "      <td>2009/2010</td>\n",
       "      <td>1.0</td>\n",
       "      <td>38.0</td>\n",
       "      <td>27.0</td>\n",
       "      <td>5.0</td>\n",
       "      <td>6.0</td>\n",
       "      <td>86.0</td>\n",
       "      <td>...</td>\n",
       "      <td>NaN</td>\n",
       "      <td>NaN</td>\n",
       "      <td>NaN</td>\n",
       "      <td>NaN</td>\n",
       "      <td>NaN</td>\n",
       "      <td>NaN</td>\n",
       "      <td>NaN</td>\n",
       "      <td>NaN</td>\n",
       "      <td>NaN</td>\n",
       "      <td>NaN</td>\n",
       "    </tr>\n",
       "    <tr>\n",
       "      <th>1</th>\n",
       "      <td>Manchester United DL 2009/2010</td>\n",
       "      <td>Manchester United</td>\n",
       "      <td>Premier League</td>\n",
       "      <td>2009/2010</td>\n",
       "      <td>2.0</td>\n",
       "      <td>38.0</td>\n",
       "      <td>27.0</td>\n",
       "      <td>4.0</td>\n",
       "      <td>7.0</td>\n",
       "      <td>85.0</td>\n",
       "      <td>...</td>\n",
       "      <td>NaN</td>\n",
       "      <td>NaN</td>\n",
       "      <td>NaN</td>\n",
       "      <td>NaN</td>\n",
       "      <td>NaN</td>\n",
       "      <td>NaN</td>\n",
       "      <td>NaN</td>\n",
       "      <td>NaN</td>\n",
       "      <td>NaN</td>\n",
       "      <td>NaN</td>\n",
       "    </tr>\n",
       "    <tr>\n",
       "      <th>2</th>\n",
       "      <td>Tottenham DL 2009/2010</td>\n",
       "      <td>Tottenham</td>\n",
       "      <td>Premier League</td>\n",
       "      <td>2009/2010</td>\n",
       "      <td>4.0</td>\n",
       "      <td>38.0</td>\n",
       "      <td>21.0</td>\n",
       "      <td>7.0</td>\n",
       "      <td>10.0</td>\n",
       "      <td>70.0</td>\n",
       "      <td>...</td>\n",
       "      <td>NaN</td>\n",
       "      <td>NaN</td>\n",
       "      <td>NaN</td>\n",
       "      <td>NaN</td>\n",
       "      <td>NaN</td>\n",
       "      <td>NaN</td>\n",
       "      <td>NaN</td>\n",
       "      <td>NaN</td>\n",
       "      <td>NaN</td>\n",
       "      <td>NaN</td>\n",
       "    </tr>\n",
       "    <tr>\n",
       "      <th>3</th>\n",
       "      <td>Arsenal DL 2009/2010</td>\n",
       "      <td>Arsenal</td>\n",
       "      <td>Premier League</td>\n",
       "      <td>2009/2010</td>\n",
       "      <td>3.0</td>\n",
       "      <td>38.0</td>\n",
       "      <td>23.0</td>\n",
       "      <td>6.0</td>\n",
       "      <td>9.0</td>\n",
       "      <td>75.0</td>\n",
       "      <td>...</td>\n",
       "      <td>NaN</td>\n",
       "      <td>NaN</td>\n",
       "      <td>NaN</td>\n",
       "      <td>NaN</td>\n",
       "      <td>NaN</td>\n",
       "      <td>NaN</td>\n",
       "      <td>NaN</td>\n",
       "      <td>NaN</td>\n",
       "      <td>NaN</td>\n",
       "      <td>NaN</td>\n",
       "    </tr>\n",
       "    <tr>\n",
       "      <th>4</th>\n",
       "      <td>Aston Villa DL 2009/2010</td>\n",
       "      <td>Aston Villa</td>\n",
       "      <td>Premier League</td>\n",
       "      <td>2009/2010</td>\n",
       "      <td>6.0</td>\n",
       "      <td>38.0</td>\n",
       "      <td>17.0</td>\n",
       "      <td>13.0</td>\n",
       "      <td>8.0</td>\n",
       "      <td>64.0</td>\n",
       "      <td>...</td>\n",
       "      <td>NaN</td>\n",
       "      <td>NaN</td>\n",
       "      <td>NaN</td>\n",
       "      <td>NaN</td>\n",
       "      <td>NaN</td>\n",
       "      <td>NaN</td>\n",
       "      <td>NaN</td>\n",
       "      <td>NaN</td>\n",
       "      <td>NaN</td>\n",
       "      <td>NaN</td>\n",
       "    </tr>\n",
       "  </tbody>\n",
       "</table>\n",
       "<p>5 rows × 93 columns</p>\n",
       "</div>"
      ],
      "text/plain": [
       "                              Key               Team          League  \\\n",
       "0            Chelsea DL 2009/2010            Chelsea  Premier League   \n",
       "1  Manchester United DL 2009/2010  Manchester United  Premier League   \n",
       "2          Tottenham DL 2009/2010          Tottenham  Premier League   \n",
       "3            Arsenal DL 2009/2010            Arsenal  Premier League   \n",
       "4        Aston Villa DL 2009/2010        Aston Villa  Premier League   \n",
       "\n",
       "      Season  Rank  Games  Wins  Draws  Losses  Points  ...  Nutmegs  \\\n",
       "0  2009/2010   1.0   38.0  27.0    5.0     6.0    86.0  ...      NaN   \n",
       "1  2009/2010   2.0   38.0  27.0    4.0     7.0    85.0  ...      NaN   \n",
       "2  2009/2010   4.0   38.0  21.0    7.0    10.0    70.0  ...      NaN   \n",
       "3  2009/2010   3.0   38.0  23.0    6.0     9.0    75.0  ...      NaN   \n",
       "4  2009/2010   6.0   38.0  17.0   13.0     8.0    64.0  ...      NaN   \n",
       "\n",
       "   Controlled  DistMovedWithBall  ProgressiveDistMoved  ProgC  \\\n",
       "0         NaN                NaN                   NaN    NaN   \n",
       "1         NaN                NaN                   NaN    NaN   \n",
       "2         NaN                NaN                   NaN    NaN   \n",
       "3         NaN                NaN                   NaN    NaN   \n",
       "4         NaN                NaN                   NaN    NaN   \n",
       "\n",
       "   ProgressiveIntoFinalThird  ProgressiveInto18Yard  Miscontrols  \\\n",
       "0                        NaN                    NaN          NaN   \n",
       "1                        NaN                    NaN          NaN   \n",
       "2                        NaN                    NaN          NaN   \n",
       "3                        NaN                    NaN          NaN   \n",
       "4                        NaN                    NaN          NaN   \n",
       "\n",
       "   MiscontrolsAfterTackle  ProgressivePassReceived  \n",
       "0                     NaN                      NaN  \n",
       "1                     NaN                      NaN  \n",
       "2                     NaN                      NaN  \n",
       "3                     NaN                      NaN  \n",
       "4                     NaN                      NaN  \n",
       "\n",
       "[5 rows x 93 columns]"
      ]
     },
     "execution_count": 41,
     "metadata": {},
     "output_type": "execute_result"
    }
   ],
   "source": [
    "df.head()"
   ]
  },
  {
   "attachments": {},
   "cell_type": "markdown",
   "metadata": {},
   "source": [
    "### Add start and end of the Season"
   ]
  },
  {
   "cell_type": "code",
   "execution_count": 42,
   "metadata": {},
   "outputs": [],
   "source": [
    "df[\"Start Season\"] = df[\"Season\"].apply(lambda x : int(x[:4]))\n",
    "df[\"End Season\"] = df[\"Season\"].apply(lambda x : (x[5:]))"
   ]
  },
  {
   "cell_type": "code",
   "execution_count": 43,
   "metadata": {},
   "outputs": [],
   "source": [
    "pl = df[(df[\"League\"] == \"Premier League\") & (df[\"Rank\"] == 1)][[\"League\",\"Team\",\"Start Season\", \"End Season\",\"Points\",\"Wins\"]].reset_index(drop = True)"
   ]
  },
  {
   "cell_type": "code",
   "execution_count": 44,
   "metadata": {},
   "outputs": [],
   "source": [
    "ll = df[(df[\"League\"] == \"La Liga\") & (df[\"Rank\"] == 1)][[\"League\",\"Team\",\"Start Season\", \"End Season\",\"Points\",\"Wins\"]].reset_index(drop = True)"
   ]
  },
  {
   "attachments": {},
   "cell_type": "markdown",
   "metadata": {},
   "source": [
    "# T-Test Points"
   ]
  },
  {
   "attachments": {},
   "cell_type": "markdown",
   "metadata": {},
   "source": [
    "## 2009 - 2022"
   ]
  },
  {
   "cell_type": "code",
   "execution_count": 45,
   "metadata": {},
   "outputs": [
    {
     "data": {
      "text/html": [
       "<div>\n",
       "<style scoped>\n",
       "    .dataframe tbody tr th:only-of-type {\n",
       "        vertical-align: middle;\n",
       "    }\n",
       "\n",
       "    .dataframe tbody tr th {\n",
       "        vertical-align: top;\n",
       "    }\n",
       "\n",
       "    .dataframe thead th {\n",
       "        text-align: right;\n",
       "    }\n",
       "</style>\n",
       "<table border=\"1\" class=\"dataframe\">\n",
       "  <thead>\n",
       "    <tr style=\"text-align: right;\">\n",
       "      <th></th>\n",
       "      <th>T</th>\n",
       "      <th>dof</th>\n",
       "      <th>alternative</th>\n",
       "      <th>p-val</th>\n",
       "      <th>CI95%</th>\n",
       "      <th>cohen-d</th>\n",
       "      <th>BF10</th>\n",
       "      <th>power</th>\n",
       "    </tr>\n",
       "  </thead>\n",
       "  <tbody>\n",
       "    <tr>\n",
       "      <th>T-test</th>\n",
       "      <td>1.170357</td>\n",
       "      <td>24</td>\n",
       "      <td>greater</td>\n",
       "      <td>0.126674</td>\n",
       "      <td>[-1.24, inf]</td>\n",
       "      <td>0.459052</td>\n",
       "      <td>1.198</td>\n",
       "      <td>0.305916</td>\n",
       "    </tr>\n",
       "  </tbody>\n",
       "</table>\n",
       "</div>"
      ],
      "text/plain": [
       "               T  dof alternative     p-val         CI95%   cohen-d   BF10  \\\n",
       "T-test  1.170357   24     greater  0.126674  [-1.24, inf]  0.459052  1.198   \n",
       "\n",
       "           power  \n",
       "T-test  0.305916  "
      ]
     },
     "execution_count": 45,
     "metadata": {},
     "output_type": "execute_result"
    }
   ],
   "source": [
    "pg.ttest(ll.Points.values, pl.Points.values, correction = False, alternative = 'greater')"
   ]
  },
  {
   "attachments": {},
   "cell_type": "markdown",
   "metadata": {},
   "source": [
    "## 2009 - 2015"
   ]
  },
  {
   "cell_type": "code",
   "execution_count": 46,
   "metadata": {},
   "outputs": [
    {
     "data": {
      "text/html": [
       "<div>\n",
       "<style scoped>\n",
       "    .dataframe tbody tr th:only-of-type {\n",
       "        vertical-align: middle;\n",
       "    }\n",
       "\n",
       "    .dataframe tbody tr th {\n",
       "        vertical-align: top;\n",
       "    }\n",
       "\n",
       "    .dataframe thead th {\n",
       "        text-align: right;\n",
       "    }\n",
       "</style>\n",
       "<table border=\"1\" class=\"dataframe\">\n",
       "  <thead>\n",
       "    <tr style=\"text-align: right;\">\n",
       "      <th></th>\n",
       "      <th>T</th>\n",
       "      <th>dof</th>\n",
       "      <th>alternative</th>\n",
       "      <th>p-val</th>\n",
       "      <th>CI95%</th>\n",
       "      <th>cohen-d</th>\n",
       "      <th>BF10</th>\n",
       "      <th>power</th>\n",
       "    </tr>\n",
       "  </thead>\n",
       "  <tbody>\n",
       "    <tr>\n",
       "      <th>T-test</th>\n",
       "      <td>4.883252</td>\n",
       "      <td>10</td>\n",
       "      <td>greater</td>\n",
       "      <td>0.000319</td>\n",
       "      <td>[6.5, inf]</td>\n",
       "      <td>2.819347</td>\n",
       "      <td>79.794</td>\n",
       "      <td>0.997999</td>\n",
       "    </tr>\n",
       "  </tbody>\n",
       "</table>\n",
       "</div>"
      ],
      "text/plain": [
       "               T  dof alternative     p-val       CI95%   cohen-d    BF10  \\\n",
       "T-test  4.883252   10     greater  0.000319  [6.5, inf]  2.819347  79.794   \n",
       "\n",
       "           power  \n",
       "T-test  0.997999  "
      ]
     },
     "execution_count": 46,
     "metadata": {},
     "output_type": "execute_result"
    }
   ],
   "source": [
    "pg.ttest(ll[ll[\"Start Season\"] < 2015].Points.values, pl[pl[\"Start Season\"] < 2015].Points.values, correction = False, alternative = 'greater')"
   ]
  },
  {
   "attachments": {},
   "cell_type": "markdown",
   "metadata": {},
   "source": [
    "## 2015 - 2022"
   ]
  },
  {
   "cell_type": "code",
   "execution_count": 47,
   "metadata": {},
   "outputs": [
    {
     "data": {
      "text/html": [
       "<div>\n",
       "<style scoped>\n",
       "    .dataframe tbody tr th:only-of-type {\n",
       "        vertical-align: middle;\n",
       "    }\n",
       "\n",
       "    .dataframe tbody tr th {\n",
       "        vertical-align: top;\n",
       "    }\n",
       "\n",
       "    .dataframe thead th {\n",
       "        text-align: right;\n",
       "    }\n",
       "</style>\n",
       "<table border=\"1\" class=\"dataframe\">\n",
       "  <thead>\n",
       "    <tr style=\"text-align: right;\">\n",
       "      <th></th>\n",
       "      <th>T</th>\n",
       "      <th>dof</th>\n",
       "      <th>alternative</th>\n",
       "      <th>p-val</th>\n",
       "      <th>CI95%</th>\n",
       "      <th>cohen-d</th>\n",
       "      <th>BF10</th>\n",
       "      <th>power</th>\n",
       "    </tr>\n",
       "  </thead>\n",
       "  <tbody>\n",
       "    <tr>\n",
       "      <th>T-test</th>\n",
       "      <td>-1.308666</td>\n",
       "      <td>12</td>\n",
       "      <td>greater</td>\n",
       "      <td>0.892422</td>\n",
       "      <td>[-9.11, inf]</td>\n",
       "      <td>0.699512</td>\n",
       "      <td>0.652</td>\n",
       "      <td>0.001963</td>\n",
       "    </tr>\n",
       "  </tbody>\n",
       "</table>\n",
       "</div>"
      ],
      "text/plain": [
       "               T  dof alternative     p-val         CI95%   cohen-d   BF10  \\\n",
       "T-test -1.308666   12     greater  0.892422  [-9.11, inf]  0.699512  0.652   \n",
       "\n",
       "           power  \n",
       "T-test  0.001963  "
      ]
     },
     "execution_count": 47,
     "metadata": {},
     "output_type": "execute_result"
    }
   ],
   "source": [
    "pg.ttest(ll[ll[\"Start Season\"] >= 2015].Points.values, pl[pl[\"Start Season\"] >= 2015].Points.values, correction = False, alternative = 'greater')"
   ]
  },
  {
   "attachments": {},
   "cell_type": "markdown",
   "metadata": {},
   "source": [
    "### **Results are not reliable since we have few samples. At least needed 30 samples.**"
   ]
  },
  {
   "attachments": {},
   "cell_type": "markdown",
   "metadata": {},
   "source": [
    "### But what if all of our samples are already **normal**?"
   ]
  },
  {
   "cell_type": "code",
   "execution_count": 48,
   "metadata": {},
   "outputs": [
    {
     "name": "stdout",
     "output_type": "stream",
     "text": [
      "LaLiga Winner Points in 2009-2022 are normal -> True\n",
      "LaLiga Winner Points in 2009-2015 are normal -> True\n",
      "LaLiga Winner Points in 2015-2022 are normal -> False\n"
     ]
    }
   ],
   "source": [
    "print(f'''LaLiga Winner Points in 2009-2022 are normal -> {pg.normality(ll.Points.values)[\"normal\"].values[0]}''')\n",
    "print(f'''LaLiga Winner Points in 2009-2015 are normal -> {pg.normality(ll[ll[\"Start Season\"] < 2015].Points.values)[\"normal\"].values[0]}''')\n",
    "print(f'''LaLiga Winner Points in 2015-2022 are normal -> {pg.normality(ll[ll[\"Start Season\"] >= 2015].Points.values)[\"normal\"].values[0]}''')"
   ]
  },
  {
   "cell_type": "code",
   "execution_count": 49,
   "metadata": {},
   "outputs": [
    {
     "name": "stdout",
     "output_type": "stream",
     "text": [
      "Premier League Winner Points in 2009-2022 are normal -> True\n",
      "Premier League Winner Points in 2009-2015 are normal -> True\n",
      "Premier League Winner Points in 2015-2022 are normal -> True\n"
     ]
    }
   ],
   "source": [
    "print(f'''Premier League Winner Points in 2009-2022 are normal -> {pg.normality(pl.Points.values)[\"normal\"].values[0]}''')\n",
    "print(f'''Premier League Winner Points in 2009-2015 are normal -> {pg.normality(pl[pl[\"Start Season\"] < 2015].Points.values)[\"normal\"].values[0]}''')\n",
    "print(f'''Premier League Winner Points in 2015-2022 are normal -> {pg.normality(pl[pl[\"Start Season\"] >= 2015].Points.values)[\"normal\"].values[0]}''')"
   ]
  },
  {
   "attachments": {},
   "cell_type": "markdown",
   "metadata": {},
   "source": [
    "**Since LaLiga and Premier League Winner Points are both normal in range 2009-2022, so the result with pvalue 0.126674 is reliable.**"
   ]
  },
  {
   "attachments": {},
   "cell_type": "markdown",
   "metadata": {},
   "source": [
    "# T-Test Wins"
   ]
  },
  {
   "attachments": {},
   "cell_type": "markdown",
   "metadata": {},
   "source": [
    "## 2009 - 2022"
   ]
  },
  {
   "cell_type": "code",
   "execution_count": 50,
   "metadata": {},
   "outputs": [
    {
     "data": {
      "text/html": [
       "<div>\n",
       "<style scoped>\n",
       "    .dataframe tbody tr th:only-of-type {\n",
       "        vertical-align: middle;\n",
       "    }\n",
       "\n",
       "    .dataframe tbody tr th {\n",
       "        vertical-align: top;\n",
       "    }\n",
       "\n",
       "    .dataframe thead th {\n",
       "        text-align: right;\n",
       "    }\n",
       "</style>\n",
       "<table border=\"1\" class=\"dataframe\">\n",
       "  <thead>\n",
       "    <tr style=\"text-align: right;\">\n",
       "      <th></th>\n",
       "      <th>T</th>\n",
       "      <th>dof</th>\n",
       "      <th>alternative</th>\n",
       "      <th>p-val</th>\n",
       "      <th>CI95%</th>\n",
       "      <th>cohen-d</th>\n",
       "      <th>BF10</th>\n",
       "      <th>power</th>\n",
       "    </tr>\n",
       "  </thead>\n",
       "  <tbody>\n",
       "    <tr>\n",
       "      <th>T-test</th>\n",
       "      <td>0.661693</td>\n",
       "      <td>24</td>\n",
       "      <td>greater</td>\n",
       "      <td>0.257236</td>\n",
       "      <td>[-1.1, inf]</td>\n",
       "      <td>0.259537</td>\n",
       "      <td>0.853</td>\n",
       "      <td>0.158246</td>\n",
       "    </tr>\n",
       "  </tbody>\n",
       "</table>\n",
       "</div>"
      ],
      "text/plain": [
       "               T  dof alternative     p-val        CI95%   cohen-d   BF10  \\\n",
       "T-test  0.661693   24     greater  0.257236  [-1.1, inf]  0.259537  0.853   \n",
       "\n",
       "           power  \n",
       "T-test  0.158246  "
      ]
     },
     "execution_count": 50,
     "metadata": {},
     "output_type": "execute_result"
    }
   ],
   "source": [
    "pg.ttest(ll.Wins.values, pl.Wins.values, correction = False, alternative = 'greater')"
   ]
  },
  {
   "attachments": {},
   "cell_type": "markdown",
   "metadata": {},
   "source": [
    "## 2009 - 2015"
   ]
  },
  {
   "cell_type": "code",
   "execution_count": 51,
   "metadata": {},
   "outputs": [
    {
     "data": {
      "text/html": [
       "<div>\n",
       "<style scoped>\n",
       "    .dataframe tbody tr th:only-of-type {\n",
       "        vertical-align: middle;\n",
       "    }\n",
       "\n",
       "    .dataframe tbody tr th {\n",
       "        vertical-align: top;\n",
       "    }\n",
       "\n",
       "    .dataframe thead th {\n",
       "        text-align: right;\n",
       "    }\n",
       "</style>\n",
       "<table border=\"1\" class=\"dataframe\">\n",
       "  <thead>\n",
       "    <tr style=\"text-align: right;\">\n",
       "      <th></th>\n",
       "      <th>T</th>\n",
       "      <th>dof</th>\n",
       "      <th>alternative</th>\n",
       "      <th>p-val</th>\n",
       "      <th>CI95%</th>\n",
       "      <th>cohen-d</th>\n",
       "      <th>BF10</th>\n",
       "      <th>power</th>\n",
       "    </tr>\n",
       "  </thead>\n",
       "  <tbody>\n",
       "    <tr>\n",
       "      <th>T-test</th>\n",
       "      <td>4.068381</td>\n",
       "      <td>10</td>\n",
       "      <td>greater</td>\n",
       "      <td>0.001128</td>\n",
       "      <td>[2.22, inf]</td>\n",
       "      <td>2.348881</td>\n",
       "      <td>30.45</td>\n",
       "      <td>0.98337</td>\n",
       "    </tr>\n",
       "  </tbody>\n",
       "</table>\n",
       "</div>"
      ],
      "text/plain": [
       "               T  dof alternative     p-val        CI95%   cohen-d   BF10  \\\n",
       "T-test  4.068381   10     greater  0.001128  [2.22, inf]  2.348881  30.45   \n",
       "\n",
       "          power  \n",
       "T-test  0.98337  "
      ]
     },
     "execution_count": 51,
     "metadata": {},
     "output_type": "execute_result"
    }
   ],
   "source": [
    "pg.ttest(ll[ll[\"Start Season\"] < 2015].Wins.values, pl[pl[\"Start Season\"] < 2015].Wins.values, correction = False, alternative = 'greater')"
   ]
  },
  {
   "attachments": {},
   "cell_type": "markdown",
   "metadata": {},
   "source": [
    "## 2015 - 2022"
   ]
  },
  {
   "cell_type": "code",
   "execution_count": 52,
   "metadata": {},
   "outputs": [
    {
     "data": {
      "text/html": [
       "<div>\n",
       "<style scoped>\n",
       "    .dataframe tbody tr th:only-of-type {\n",
       "        vertical-align: middle;\n",
       "    }\n",
       "\n",
       "    .dataframe tbody tr th {\n",
       "        vertical-align: top;\n",
       "    }\n",
       "\n",
       "    .dataframe thead th {\n",
       "        text-align: right;\n",
       "    }\n",
       "</style>\n",
       "<table border=\"1\" class=\"dataframe\">\n",
       "  <thead>\n",
       "    <tr style=\"text-align: right;\">\n",
       "      <th></th>\n",
       "      <th>T</th>\n",
       "      <th>dof</th>\n",
       "      <th>alternative</th>\n",
       "      <th>p-val</th>\n",
       "      <th>CI95%</th>\n",
       "      <th>cohen-d</th>\n",
       "      <th>BF10</th>\n",
       "      <th>power</th>\n",
       "    </tr>\n",
       "  </thead>\n",
       "  <tbody>\n",
       "    <tr>\n",
       "      <th>T-test</th>\n",
       "      <td>-1.549882</td>\n",
       "      <td>12</td>\n",
       "      <td>greater</td>\n",
       "      <td>0.926435</td>\n",
       "      <td>[-4.61, inf]</td>\n",
       "      <td>0.828447</td>\n",
       "      <td>0.532</td>\n",
       "      <td>0.000926</td>\n",
       "    </tr>\n",
       "  </tbody>\n",
       "</table>\n",
       "</div>"
      ],
      "text/plain": [
       "               T  dof alternative     p-val         CI95%   cohen-d   BF10  \\\n",
       "T-test -1.549882   12     greater  0.926435  [-4.61, inf]  0.828447  0.532   \n",
       "\n",
       "           power  \n",
       "T-test  0.000926  "
      ]
     },
     "execution_count": 52,
     "metadata": {},
     "output_type": "execute_result"
    }
   ],
   "source": [
    "pg.ttest(ll[ll[\"Start Season\"] >= 2015].Wins.values, pl[pl[\"Start Season\"] >= 2015].Wins.values, correction = False, alternative = 'greater')"
   ]
  },
  {
   "attachments": {},
   "cell_type": "markdown",
   "metadata": {},
   "source": [
    "### **Results are not reliable since we have few samples. At least needed 30 samples.**"
   ]
  },
  {
   "attachments": {},
   "cell_type": "markdown",
   "metadata": {},
   "source": [
    "### But what if all of our samples are already **normal**?"
   ]
  },
  {
   "cell_type": "code",
   "execution_count": 53,
   "metadata": {},
   "outputs": [
    {
     "name": "stdout",
     "output_type": "stream",
     "text": [
      "LaLiga Winner Wins in 2009-2022 are normal -> True\n",
      "LaLiga Winner Wins in 2009-2015 are normal -> True\n",
      "LaLiga Winner Wins in 2015-2022 are normal -> False\n"
     ]
    }
   ],
   "source": [
    "print(f'''LaLiga Winner Wins in 2009-2022 are normal -> {pg.normality(ll.Wins.values)[\"normal\"].values[0]}''')\n",
    "print(f'''LaLiga Winner Wins in 2009-2015 are normal -> {pg.normality(ll[ll[\"Start Season\"] < 2015].Wins.values)[\"normal\"].values[0]}''')\n",
    "print(f'''LaLiga Winner Wins in 2015-2022 are normal -> {pg.normality(ll[ll[\"Start Season\"] >= 2015].Wins.values)[\"normal\"].values[0]}''')"
   ]
  },
  {
   "cell_type": "code",
   "execution_count": 54,
   "metadata": {},
   "outputs": [
    {
     "name": "stdout",
     "output_type": "stream",
     "text": [
      "Premier League Winner Wins in 2009-2022 are normal -> True\n",
      "Premier League Winner Wins in 2009-2015 are normal -> True\n",
      "Premier League Winner Wins in 2015-2022 are normal -> True\n"
     ]
    }
   ],
   "source": [
    "print(f'''Premier League Winner Wins in 2009-2022 are normal -> {pg.normality(pl.Wins.values)[\"normal\"].values[0]}''')\n",
    "print(f'''Premier League Winner Wins in 2009-2015 are normal -> {pg.normality(pl[pl[\"Start Season\"] < 2015].Wins.values)[\"normal\"].values[0]}''')\n",
    "print(f'''Premier League Winner Wins in 2015-2022 are normal -> {pg.normality(pl[pl[\"Start Season\"] >= 2015].Wins.values)[\"normal\"].values[0]}''')"
   ]
  },
  {
   "attachments": {},
   "cell_type": "markdown",
   "metadata": {},
   "source": [
    "**Since LaLiga and Premier League Winner Wins are both normal in range 2009-2022, so the result with pvalue 0.257236 is reliable.**"
   ]
  },
  {
   "attachments": {},
   "cell_type": "markdown",
   "metadata": {},
   "source": [
    "Hey La Liga! Your Winner Wins and Points are not normal from 2015 until now. Do you think it's good or is it an issue?"
   ]
  }
 ],
 "metadata": {
  "kernelspec": {
   "display_name": "Python 3",
   "language": "python",
   "name": "python3"
  },
  "language_info": {
   "codemirror_mode": {
    "name": "ipython",
    "version": 3
   },
   "file_extension": ".py",
   "mimetype": "text/x-python",
   "name": "python",
   "nbconvert_exporter": "python",
   "pygments_lexer": "ipython3",
   "version": "3.10.6"
  },
  "orig_nbformat": 4
 },
 "nbformat": 4,
 "nbformat_minor": 2
}
